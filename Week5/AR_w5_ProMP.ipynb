{
  "nbformat": 4,
  "nbformat_minor": 0,
  "metadata": {
    "colab": {
      "name": "AR_w5_ProMP.ipynb",
      "provenance": [],
      "collapsed_sections": [],
      "authorship_tag": "ABX9TyOOdEx+W+6yzejMhAxc7Nef",
      "include_colab_link": true
    },
    "kernelspec": {
      "name": "python3",
      "display_name": "Python 3"
    },
    "language_info": {
      "name": "python"
    }
  },
  "cells": [
    {
      "cell_type": "markdown",
      "metadata": {
        "id": "view-in-github",
        "colab_type": "text"
      },
      "source": [
        "<a href=\"https://colab.research.google.com/github/knazari/Advanced_Robotic_2022/blob/main/Week5/AR_w5_ProMP.ipynb\" target=\"_parent\"><img src=\"https://colab.research.google.com/assets/colab-badge.svg\" alt=\"Open In Colab\"/></a>"
      ]
    },
    {
      "cell_type": "code",
      "source": [
        "from __future__ import division\n",
        "import numpy as np\n",
        "import matplotlib.pyplot as plt\n",
        "import numpy.matlib as mat"
      ],
      "metadata": {
        "id": "ftWIHyy61vbH"
      },
      "execution_count": null,
      "outputs": []
    },
    {
      "cell_type": "markdown",
      "source": [
        "**Probabilistic Movement Primitives**\n",
        "===================================\n",
        "\n",
        "In this notebook we will write a class called **ProMP** which includes all the information required to define a ProMP as well as important methods which allow the manipulation of the MPs to show the potential of the probabilistic approach.\n",
        "<br/><br/>\n",
        "_______________________________________________________________________________\n",
        "<br/><br/>\n",
        "\n",
        "For stroke-based movements, the mean of a ProMP is given by a weighted sum of $N$ Gaussians. These Gaussian basis functions have the following form:\n",
        "\n",
        "\\begin{equation}\n",
        "b_i(t):=\\mathrm{exp}\\left(-\\frac{(t-c_i)^2}{2h}\\right),\\;i=1,\\ldots,N\n",
        "\\tag{1}\n",
        "\\end{equation}\n",
        "\n",
        "These functions are commonly normalized to improve regression\n",
        "\n",
        "\\begin{equation}\n",
        "\\phi_i(t):=\\frac{b_i(t)}{\\sum_{j=1}^Nb_j(t)}\n",
        " \\tag{2}\n",
        "\\end{equation}\n",
        "\n",
        "The function $z(t)$ allows temporal modulation, so that our basis functions are given by:\n",
        "\n",
        "\\begin{equation}\n",
        "\\phi_i(z)=\\phi_i(z(t))\n",
        " \\tag{3}\n",
        "\\end{equation}\n",
        "\n",
        "We work in discrete time, so we define a time step d$t$. By default, we work with a time lapse of 1s, therefore, if $T$ steps are needed, d$t=1/T$. We then introduce $\\mathbf{\\Phi}_t:=(\\phi_1(t),\\ldots,\\phi_N(t))\\in R^{N\\times 1}$, which includes the evaluation of all basis functions in a time step.\n"
      ],
      "metadata": {
        "id": "5-S-C9H6zDUq"
      }
    },
    {
      "cell_type": "markdown",
      "source": [
        "The **BasisFuncGauss** function creates and evaluates $N$ basis Gaussian functions with a bandwidth $h$. Input $f$ refers to the linear modulation factor, so that the modulation is given by $z(t):=ft$. Then, the Gaussian functions $\\phi_i(t)$ are evaluated as $\\phi_i(ft)$. $dt$ represents the time step. The functions have modes at $c_i$, evenly spread along $[0,1/f]$. The output of this function is a $T\\times N$array for which every row corresponds to the vector $\\mathbf{\\Phi}_t$ for every time step.\n",
        "<br/><br/>\n",
        "\n",
        "<font color='red'>In the code cell below, write instructions that will normalize the basis functions in $F$ in line 19 (use eq(2)).</font>"
      ],
      "metadata": {
        "id": "CaVbRbfB3fMN"
      }
    },
    {
      "cell_type": "code",
      "execution_count": null,
      "metadata": {
        "id": "xP1WKbd2y41v"
      },
      "outputs": [],
      "source": [
        "def BasisFuncGauss(N, h, f, dt): \n",
        "    \"\"\"\n",
        "    Evaluates Gaussian basis functions in [0,1/f]\n",
        "    N = number of basis functions\n",
        "    h = bandwidth\n",
        "    dt = time step\n",
        "    f = modulation factor\n",
        "    \"\"\"\n",
        "    tf = 1/f;\n",
        "    T = int(round(tf/dt+1))\n",
        "    Phi = np.zeros((T,N))\n",
        "    for z in range(0,T):\n",
        "        t = z*dt\n",
        "        phi = np.zeros((1, N))\n",
        "        for k in range(1,N+1):\n",
        "            c = (k-1)/(N-1)\n",
        "            phi[0,k-1] = np.exp(-(f*t - c)*(f*t - c)/(2*h))\n",
        "        Phi[z,:N] = phi[0, :N]\n",
        "    # -- INSERT YOUR CODE HERE --\n",
        "    return Phi #[TxN]\n"
      ]
    },
    {
      "cell_type": "markdown",
      "source": [
        "\n",
        "\n",
        "In a ProMP, at time step $t$, a joint variable $q$ is modeled as:\n",
        "\n",
        "\\begin{equation}\n",
        "q_t = \\mathbf{\\Phi}_t^{\\mathrm{T}}\\boldsymbol w + \\epsilon_q\n",
        " \\tag{4}\n",
        "\\end{equation} \n",
        "\n",
        "\n",
        "where $\\epsilon_q$ adds zero-mean Gaussian observation noise with variance $\\Sigma_q$. It follows that the probability of observing $q_t$ is represented by:\n",
        "\n",
        "\n",
        "\\begin{equation}\n",
        "p(q_t|\\boldsymbol w)=\\mathcal{N}\\left(q_t\\,\\big|\\,\\mathbf{\\Phi}^{\\mathrm{T}}_t\\boldsymbol w, \\mathbf{\\Sigma}_q\\right)\n",
        " \\tag{5}\n",
        "\\end{equation}\n",
        "\n",
        "Since $\\Sigma_q$ is the same for every time step, the values $q_t$ are taken from independent and identical distributions, i.i.d. Hence, the probability of observing a trajectory $\\tau:=\\{q_1,\\ldots,q_T\\}$ is given by:\n",
        "\n",
        "\\begin{equation}\n",
        "p(q_t|\\boldsymbol w):=\\prod_{t=1}^Tp(q_t|\\boldsymbol w)\n",
        " \\tag{6}\n",
        "\\end{equation}\n",
        "\n",
        "However, since parameters $\\boldsymbol w$ are to be learnt from data, we also assume such parameters are taken from a distribution $\\boldsymbol w\\sim p(\\boldsymbol w|\\theta)=\\mathcal{N}(\\boldsymbol w|\\mu_{\\boldsymbol w},\\mathbf{\\Sigma}_{\\boldsymbol w})$. We therefore would like to have a predictive distribution of $q_t$ which does not depend on $\\boldsymbol w$, but on $\\theta:=(\\mu_{\\boldsymbol w},\\mathbf{\\Sigma}_{\\boldsymbol w})$. This is done buy marginalizing $\\boldsymbol w$ out in the distribution as follows:\n",
        "\n",
        "\\begin{equation}\n",
        "p(q_t|\\theta) = \\int\\mathcal{N}(q_t\\,\\big|\\,\\mathbf{\\Phi}^{\\mathrm{T}}_t\\boldsymbol w,\\,\\Sigma_q)\\mathcal{N}(\\boldsymbol w\\,\\big|\\,\\mu_{\\boldsymbol w},\\,\\Sigma_{\\boldsymbol w})\\mathrm{d}\\boldsymbol w\n",
        " = \\mathcal{N}(q_t\\,\\big|\\,\\mathbf{\\Phi}^{\\mathrm{T}}_t\\boldsymbol w,\\,\\Sigma_q+\\mathbf{\\Phi}^{\\mathrm{T}}_t\\mathbf{\\Sigma}_{\\boldsymbol w}\\mathbf{\\Phi}_t)\n",
        "  \\tag{7}\n",
        "\\end{equation}\n",
        "\n",
        "\n",
        "In the *ProMP* class, a *ProMP* object is initialized by the number of basis functions $N$, the bandwidth in the basis functions $h$, the time step d$t$, the covariance of the original distributions on $q$, *covQ* ($\\Sigma_q$), the mean of the weights, $Wm$ ($\\mu_{\\boldsymbol w}$), and the covariance of the weights, *covW* ($\\mathbf{\\Sigma}_{\\boldsymbol w}$). \n",
        "<br/><br/>\n",
        "When initialized, the class also defines other convenience variables. *Phi* is the $T\\times N$ matrix containing the basis functions evaluated for every time step and with a default modulation factor equal to 1; $Qm$ ($\\mu_{q,t}$) is the mean values of $q$ for every time step; and *cov* is the covariance of the marginal distribution on $q$ for every time step.\n",
        "\n",
        "<font color='red'>In the code cell below, write instructions that will calculate the covariance matrix $cov$  in line 13 (use eq(7)).</font>"
      ],
      "metadata": {
        "id": "yCvzezZv2Byk"
      }
    },
    {
      "cell_type": "code",
      "source": [
        "def __init__(self, N, h, dt, covQ, Wm, covW):\n",
        "    self.N = N\n",
        "    self.h = h\n",
        "    self.dt = dt\n",
        "    self.covQ = covQ\n",
        "    self.Wm = Wm #[Nx1]\n",
        "    self.covW = covW #[NxN]\n",
        "    self.Phi = BasisFuncGauss(N,h,1,dt) #[TxN]\n",
        "    self.T,_ = self.Phi.shape\n",
        "    self.Qm = np.matmul(self.Phi,self.Wm) #[Tx1]\n",
        "    self.cov = np.zeros((self.T,1)) #[Tx1]\n",
        "    for i in range(0,self.T):\n",
        "        self.cov[i,0] = # -- write your code here --"
      ],
      "metadata": {
        "id": "FQg7xK163VKc"
      },
      "execution_count": null,
      "outputs": []
    },
    {
      "cell_type": "markdown",
      "source": [
        "One of the big advantages of the ProMPs approach is the inclusion of new via-points. Say we wish to add a new via-point $q_{t^{*}}^{*}$ at time $t^{*}$ which is to be observed with an uncertainty of $\\Sigma_{q^{*}}$. We simply have to obtain a posterior distribution over $\\boldsymbol w$ by affecting our prior distribution with the new information given by $q_{t^{*}}^{*}$ and $\\Sigma_{q^{*}}$. We thus apply Bayes theorem as follows:\n",
        "\n",
        "\\begin{equation}\n",
        "p(\\boldsymbol w|q_{t^{*}}^{*},\\Sigma_{q^{*}})\\propto\\mathcal{N}\\left(q_{t^{*}}^{*}\\,\\big|\\,\\mathbf{\\Phi}^{\\mathrm{T}}_{t^{*}}\\boldsymbol w,\\,\\Sigma_{q^{*}}\\right)p(\\boldsymbol w)\n",
        " \\tag{8}\n",
        "\\end{equation}\n",
        "\n",
        "The result of applying the Bayes theorem leads to the following mean and variance of the posterior distribution:\n",
        "\n",
        "\\begin{equation}\n",
        "\\mu_{\\boldsymbol w}^{[\\mathrm{new}]} = \\mu_{\\boldsymbol w}+\\mathbf{\\Sigma}_{\\boldsymbol w}\\mathbf{\\Phi}_{t^{*}}(\\Sigma_q^{*}+\\mathbf{\\Phi}_{t^{*}}^{\\mathrm{T}}\\mathbf{\\Sigma}_{\\boldsymbol w}\\mathbf{\\Phi}_{t^{*}})^{-1}(q_{t^{*}}^{*}-\\mathbf{\\Phi}^{\\mathrm{T}}_{t^{*}}\\mu_{\\boldsymbol w})\n",
        " \\tag{9}\n",
        "\\end{equation}\n",
        "\n",
        "\\begin{equation}\n",
        "\\mathbf{\\Sigma}_{\\boldsymbol w}^{[\\mathrm{new}]} = \\mathbf{\\Sigma}_{\\boldsymbol w}-\\mathbf{\\Sigma}_{\\boldsymbol w}\\mathbf{\\Phi}_{t^{*}}(\\Sigma_q^{*}+\\mathbf{\\Phi}_{t^{*}}^{\\mathrm{T}}\\mathbf{\\Sigma}_{\\boldsymbol w}\\mathbf{\\Phi}_{t^{*}})^{-1}\\mathbf{\\Phi}_{t^{*}}^{\\mathrm{T}}\\mathbf{\\Sigma}_{\\boldsymbol w}\n",
        "\\end{equation}\n",
        "\n",
        "The *condition* method conditions a ProMP to the new observation *Qstar* ($q^{*}_{t^{*}}$) at time *tstar* ($t^{*}$) with precision of observation *covQstar* ($\\Sigma_{q^{*}}$).\n",
        "\n",
        "\n",
        "<font color='red'>Complete the below code cell to compute *Wm* and *covW* follwing Eq. (9). Use variable *Phit* ($\\Phi_{t^{*}}$) which is defined inside the function..</font>"
      ],
      "metadata": {
        "id": "2e9ybdIc7sBN"
      }
    },
    {
      "cell_type": "code",
      "source": [
        " def condition(self, tstar, Qstar, covQstar):\n",
        "    Phit = np.transpose(self.Phi[tstar-1:tstar,:])\n",
        "    self.Wm = # -- INSERT YOUR CODE HERE ---\n",
        "    self.covW = # -- INSERT YOUR CODE HERE ---\n",
        "    self.Qm = np.matmul(self.Phi,self.Wm)\n",
        "    for i in range(0,self.T):\n",
        "        self.cov[i,0] = self.covQ + np.matmul(np.array([self.Phi[i,:]]),np.matmul(self.covW,np.transpose(np.array([self.Phi[i,:]]))))"
      ],
      "metadata": {
        "id": "3IhP2BJP7rZ2"
      },
      "execution_count": null,
      "outputs": []
    },
    {
      "cell_type": "markdown",
      "source": [
        "Temporal modulation is carried out by means of the previously defined phase function $z(t)$.\n",
        "\n",
        "Member function *modulate* allows temporal modulation of a ProMP. Only linear time modulation is supported by this class. Modulation is given by the *factor* ($f$) input variable which is originally set to 1 when a ProMP is initialized. The phase function is then given by $z(t)=ft$. Note that $dt$ is constant throughout the code, hence, temporal modulation modifies $T$."
      ],
      "metadata": {
        "id": "c0YtLISRBc8S"
      }
    },
    {
      "cell_type": "code",
      "source": [
        " def modulate(self, factor):\n",
        "    self.Phi = BasisFuncGauss(self.N,self.h,factor,self.dt) #[TxN]\n",
        "    self.T,_ = self.Phi.shape # new T\n",
        "    self.Qm = np.matmul(self.Phi,self.Wm) #[Tx1]\n",
        "    self.cov = np.zeros((self.T,1)) #[Tx1]\n",
        "    for i in range(0,self.T):\n",
        "        self.cov[i,0] = self.covQ + np.matmul(np.array([self.Phi[i,:]]),np.matmul(self.covW,np.transpose(np.array([self.Phi[i,:]]))))"
      ],
      "metadata": {
        "id": "q7pqrG6ZCEIH"
      },
      "execution_count": null,
      "outputs": []
    },
    {
      "cell_type": "markdown",
      "source": [
        "The *printMP* method inside the *ProMP* class plots the mean *Qm* ($\\mu_q$) against time. It also plots two standard deviations above and below $\\mu_q$ in order to show the marginal distribution at every time step. The *name* value refers to the title of the plot.\n",
        "\n",
        "<font color='red'>To complete the code cell bellow, compute the $T\\times 1$ arrays *upper* and *lower* which contain two standard deviations above and below the mean $\\mu_q$, respectively, for every time step. Remember that we store the covariance at every time step in the member variable *cov*.</font>\n"
      ],
      "metadata": {
        "id": "IfixPUoTCJue"
      }
    },
    {
      "cell_type": "code",
      "source": [
        "def printMP(self, name):\n",
        "    t = np.arange(0, self.T*self.dt, self.dt)\n",
        "    upper = # -- INSERT YOUR CODE HERE ---\n",
        "    lower = # -- INSERT YOUR CODE HERE ---\n",
        "    plt.plot(t,self.Qm)\n",
        "    plt.fill_between(t, upper[:,0], lower[:,0], color = 'k', alpha = 0.1)\n",
        "    plt.title(name)\n",
        "    plt.show()"
      ],
      "metadata": {
        "id": "YRbvtMMPEhPS"
      },
      "execution_count": null,
      "outputs": []
    },
    {
      "cell_type": "markdown",
      "source": [
        "We would like to be able to blend different MPs into a single movement. For example, given two ProMPs, each having an important via-point, we wish to blend them so that our new ProMP crosses both via-points. We can do this by activation and deactivation of the ProMPs. We define the activation functions $\\alpha^{[1]}(t)$ and $\\alpha^{[2]}(t)$, with values $\\alpha_{t}^{[1]}, \\alpha_{t}^{[2]}\\in[0,1]$ at each time step $t=1,\\ldots,T$. When the value of an activation function reaches 0, the corresponding ProMP is fully deactivated. Oppositely, when the value reaches 1, the ProMP is fully activated. With these tools, the result of blending two ProMPs with predictive distributions $p^{[i]}(q_i)=\\mathcal{N}(q_t\\,|\\,\\mu_{q,t}^{[i]},\\Sigma_t^{[i]})$, $i=1,2$ yields to a new ProMP described by $p^{*}(q_t)=\\mathcal{N}(q_t\\,|\\,\\mu_{q,t}^{*},\\Sigma_t^{*})$, where:\n",
        "\n",
        "\\begin{equation}\n",
        "\\Sigma_t^{*} = (\\frac{\\alpha_t^{[1]}}{\\Sigma_t^{[1]}} +\\frac{\\alpha_t^{[2]}}{\\Sigma_t^{[2]}})^{-1}\n",
        " \\tag{10}\n",
        "\\end{equation}\n",
        "\n",
        "\\begin{equation}\n",
        "\\mu_{q,t}^{*} = \\Sigma_t^{*}(\\frac{\\alpha_t^{[1]}}{\\Sigma_t^{[1]}}\\mu_{q,t}^{[1]} + \\frac{\\alpha_t^{[2]}}{\\Sigma_t^{[2]}}\\mu_{q,t}^{[2]})\n",
        "\\end{equation}\n",
        "\n",
        "\n",
        "The **blend** function blends two **ProMPs** objects, **MP1** and **MP2**, according to the activation functions **alpha1** ($\\alpha_t^{[1]}$) and **alpha2** ($\\alpha_t^{[2]}$). Vectors **alpha1** and **alpha2** contain the values of the activation functions for every time step. It is assumed that both ProMPs have the same value for **T**, hence, **alpha1** and **alpha2** must be arrays of **T** elements.\n",
        "\n",
        "\n",
        "<font color='red'>Using Eq. (10), complete the code above by writing the expressions for $cov12$ and $Qm12$, which correspond to the covariance $\\Sigma_t^{*}$ and mean $\\mu_{q,t}^{*}$ of the resulting ProMP at every time step. In order to be compatible with the $ProMP$ class,$cov12$ and $Qm12$ must be arrays with shapes $(T,1)$.</font>\n"
      ],
      "metadata": {
        "id": "Q1nkIBAZEliz"
      }
    },
    {
      "cell_type": "code",
      "source": [
        "def blend(MP1,MP2,alpha1,alpha2):\n",
        "    \"\"\"\n",
        "    blends two MPs\n",
        "        MP1, MP2 = ProMP objects to blend\n",
        "        alpha1, alpha2 = activation functions for each respective MP [Tx1]\n",
        "    \"\"\"\n",
        "    a1 = np.transpose(np.array([alpha1])) #[Tx1]\n",
        "    a2 = np.transpose(np.array([alpha2])) #[Tx1]\n",
        "    cov12 = # -- INSERT YOUR CODE HERE ---\n",
        "    Qm12 = # -- INSERT YOUR CODE HERE ---\n",
        "    M12 = ProMP(MP1.N,MP1.h,MP1.dt,MP1.covQ,np.zeros((MP1.N,1)),np.zeros((MP1.N,MP1.N)))\n",
        "    M12.cov = cov12\n",
        "    M12.Qm = Qm12\n",
        "    return M12"
      ],
      "metadata": {
        "id": "tHL8gihnHW6O"
      },
      "execution_count": null,
      "outputs": []
    },
    {
      "cell_type": "markdown",
      "source": [
        "Now that we defined the methods we can define ProMP class. Replace your written method in the corresponding section."
      ],
      "metadata": {
        "id": "bKB7W1IqgemH"
      }
    },
    {
      "cell_type": "code",
      "source": [
        "class ProMP:\n",
        "    \"\"\"\n",
        "    ProMP class\n",
        "        N = number of basis functions\n",
        "        h = bandwidth of basis functions\n",
        "        dt = time step\n",
        "        covQ = variance of original p(Q)\n",
        "        Wm = mean of weights [Nx1]\n",
        "        covW = variance of weights [NxN]\n",
        "    internal:\n",
        "        Phi = basis functions evaluated for every step [TxN]\n",
        "        Qm = mean of Q [Nx1]\n",
        "        cov = variance of p(Q|Wm) for every step  [Tx1]\n",
        "    methods:\n",
        "        condition (conditions an MP for a new viapoint)\n",
        "            tstar = step of viapoint\n",
        "            Qstar = value of Q of the viapoint\n",
        "            covTstar = uncertainty of observation\n",
        "        modulate (linear time modulation of the MP)\n",
        "            factor = factor of linear modulation, z = factor*t\n",
        "        printMP (plots an MP showing a standar deviation above and below)\n",
        "            name = title of the plot\n",
        "    \"\"\"\n",
        "    def __init__(self, N, h, dt, covQ, Wm, covW):\n",
        "        self.N = N\n",
        "        self.h = h\n",
        "        self.dt = dt\n",
        "        self.covQ = covQ\n",
        "        self.Wm = Wm #[Nx1]\n",
        "        self.covW = covW #[NxN]\n",
        "        self.Phi = BasisFuncGauss(N,h,1,dt) #[TxN]\n",
        "        self.T,_ = self.Phi.shape\n",
        "        self.Qm = np.matmul(self.Phi,self.Wm) #[Tx1]\n",
        "        self.cov = np.zeros((self.T,1)) #[Tx1]\n",
        "        for i in range(0,self.T):\n",
        "            self.cov[i,0] = # -- write your code here --\n",
        "\n",
        "    def condition(self, tstar, Qstar, covQstar):\n",
        "        Phit = np.transpose(self.Phi[tstar-1:tstar,:])\n",
        "        self.Wm = # -- INSERT YOUR CODE HERE ---\n",
        "        self.covW = # -- INSERT YOUR CODE HERE ---\n",
        "        self.Qm = np.matmul(self.Phi,self.Wm)\n",
        "        for i in range(0,self.T):\n",
        "            self.cov[i,0] = self.covQ + np.matmul(np.array([self.Phi[i,:]]),np.matmul(self.covW,np.transpose(np.array([self.Phi[i,:]]))))\n",
        "\n",
        "    def modulate(self, factor):\n",
        "        self.Phi = BasisFuncGauss(self.N,self.h,factor,self.dt) #[TxN]\n",
        "        self.T,_ = self.Phi.shape # new T\n",
        "        self.Qm = np.matmul(self.Phi,self.Wm) #[Tx1]\n",
        "        self.cov = np.zeros((self.T,1)) #[Tx1]\n",
        "        for i in range(0,self.T):\n",
        "            self.cov[i,0] = self.covQ + np.matmul(np.array([self.Phi[i,:]]),np.matmul(self.covW,np.transpose(np.array([self.Phi[i,:]]))))\n",
        "\n",
        "    def printMP(self, name):\n",
        "        t = np.arange(0, self.T*self.dt, self.dt)\n",
        "        upper = # -- INSERT YOUR CODE HERE ---\n",
        "        lower = # -- INSERT YOUR CODE HERE ---\n",
        "        plt.plot(t,self.Qm)\n",
        "        plt.fill_between(t, upper[:,0], lower[:,0], color = 'k', alpha = 0.1)\n",
        "        plt.title(name)\n",
        "        plt.show()\n"
      ],
      "metadata": {
        "id": "7GlueL7Rgs3M"
      },
      "execution_count": null,
      "outputs": []
    },
    {
      "cell_type": "markdown",
      "source": [
        "Now we will use the samples of weights $\\boldsymbol w$ obtained in 5 observations. So we assume that the learning process has been completed. With this data, a ProMP for a single joint variable $q$ is created. We will carry out the following experiments:\n",
        "\n",
        "*   Condition the ProMP to a first via-point\n",
        "*   Condition the resulting ProMP from the previous experiment to a second via-point\n",
        "\n",
        "*   Obtain two ProMPs after conditioning the original MP to each via-point, separately, and blend the two results\n",
        "*   Time-modulate the original ProMP to different phases\n",
        "\n",
        "\n",
        "\n",
        "\n"
      ],
      "metadata": {
        "id": "Jk2c32SRGAtf"
      }
    },
    {
      "cell_type": "markdown",
      "source": [
        "Array $Wsamples$ includes the values of the $N = 15$ weights after 5 observations. $\\mu_{\\boldsymbol w}$ is computed from these observations and stored in $Wmean$. Similarly, $\\mathbf{\\Sigma}_{\\boldsymbol w}$ is saved in $Wcov$. Using these values, three identical objects of the class $ProMP$ are defined.\n"
      ],
      "metadata": {
        "id": "HLnTP07gJDUJ"
      }
    },
    {
      "cell_type": "code",
      "source": [
        " # 15 weights obtained from 5 observations\n",
        "Wsamples = np.array([[0.0141,0.0130,0.0038,0.0029,0.0143],\n",
        "                      [0.0044,0.2025,0.0178,0.0703,0.0143],\n",
        "                      [0.0388,0.1042,0.0531,0.0854,0.1479],\n",
        "                      [0.0025,0.0321,0.0235,0.0495,0.0086],\n",
        "                      [0.0810,0.0178,0.1500,0.0310,0.0843],\n",
        "                      [0.0658,0.1258,0.0488,0.1650,0.1398],\n",
        "                      [0.1059,0.0821,0.0116,0.2260,0.0531],\n",
        "                      [0.0032,0.0952,0.0305,0.2220,0.0025],\n",
        "                      [0.2031,0.1665,0.1430,0.0842,0.0656],\n",
        "                      [0.0491,0.1543,0.1232,0.1505,0.0049],\n",
        "                      [0.1914,0.0525,0.0783,0.0009,0.0292],\n",
        "                      [0.0584,0.1035,0.0830,0.0305,0.1452],\n",
        "                      [0.0157,0.1713,0.2550,0.0695,0.0051],\n",
        "                      [0.2106,0.0630,0.0942,0.0086,0.1512],\n",
        "                      [0.0959,0.2093,0.1388,0.0566,0.0819]])\n",
        "\n",
        "Wmean = np.transpose([np.mean(Wsamples, axis=1)])\n",
        "Wcov = np.cov(Wsamples)\n",
        "N,_ = Wsamples.shape\n",
        "\n",
        "T = 100\n",
        "dt = 1/(T-1)\n",
        "\n",
        "# Define MPs\n",
        "MP1 = ProMP(N,0.02,dt,1e-6,Wmean,Wcov)\n",
        "MP2 = ProMP(N,0.02,dt,1e-6,Wmean,Wcov)\n",
        "MP3 = ProMP(N,0.02,dt,1e-6,Wmean,Wcov)"
      ],
      "metadata": {
        "id": "U6v-5ynBJSQ0"
      },
      "execution_count": null,
      "outputs": []
    },
    {
      "cell_type": "markdown",
      "source": [
        "$MP2$ is conditioned to point $Qstar1$, at time step $T$, with an uncertainty of the observation equal to $covQstar1$. The desired via-point, the original mean and the new conditioned mean are then plotted."
      ],
      "metadata": {
        "id": "bRPgyxhoJYMF"
      }
    },
    {
      "cell_type": "code",
      "source": [
        "# New desired point\n",
        "tstar1 = 100\n",
        "Qstar1 = MP2.Qm[100-1]+ 0.03\n",
        "covQstar1 = 1e-6\n",
        "MP2.condition(tstar1,Qstar1,covQstar1)\n",
        "\n",
        "t = np.arange(0, 1+dt, dt)\n",
        "\n",
        "# Plot original mean, and mean of conditioned MP\n",
        "plt.figure()\n",
        "plt.plot(t,MP1.Qm, 'r--', t, MP2.Qm, 'k')\n",
        "plt.plot(tstar1/(MP1.T), Qstar1,'ro')\n",
        "plt.title('Coditioning for point 1')\n",
        "plt.show()\n",
        "\n",
        "# Print MP conditioned to point 1\n",
        "MP2.printMP('Coditioning for point 1')"
      ],
      "metadata": {
        "id": "trzhmU3_JwtI"
      },
      "execution_count": null,
      "outputs": []
    },
    {
      "cell_type": "markdown",
      "source": [
        "The resulting MP is now conditioned to a second via-point, $Qstar2$, at time step $tstar2$. The resulting ProMP must cross both points."
      ],
      "metadata": {
        "id": "kzSVdf7PKAEc"
      }
    },
    {
      "cell_type": "code",
      "source": [
        "# Second desired point\n",
        "tstar2 = 30\n",
        "Qstar2 = 0.11\n",
        "covQstar2 = 1e-6\n",
        "MP2.condition(tstar2,Qstar2,covQstar2)\n",
        "\n",
        "plt.figure()\n",
        "plt.plot(t,MP1.Qm, 'r--', t, MP2.Qm, 'k')\n",
        "plt.plot(tstar1/(MP1.T), Qstar1,'ro')\n",
        "plt.plot(tstar2/(MP1.T), Qstar2,'ro')\n",
        "plt.title('Coditioning for point 1 and point 2')\n",
        "plt.show()\n",
        "\n",
        "MP2.printMP('Coditioning for point 1 and point 2')"
      ],
      "metadata": {
        "id": "UkxcTG5eIG12"
      },
      "execution_count": null,
      "outputs": []
    },
    {
      "cell_type": "markdown",
      "source": [
        "\n",
        "MPs $MP1$ and $MP2$ are conditioned to points 1 and 2, respectively. Then both are blended. The result of the blending must have both points as via-points. \n",
        "\n",
        "<font color='red'>To complete the code, come up with an expression for the $T-$element array ***alpha1*** which contains the values $\\alpha_t^{[1]}$ of the activation function for **MP1**. Since tstar1 = 100 and tstar2 = 30, $\\alpha_t^{[1]}$ must be equal (or close) to 1 at $t = 100$ but must be equal (or close) to 0 at $t = 30$, and there must be a smooth transition between these values. $\\alpha_t^{[2]}$ is simply computed by $alpha2 = -alpha1+1$ in the following line of the code.\n",
        "\n",
        "For this, find suitable values for $A$, $B$ and $C$ in the following function:\n",
        "\\begin{equation}\n",
        "\\alpha^{[1]}(t):=A\\mathrm{tanh}\\left(B\\left(\\frac{t-C}{T}\\right)\\right)+A\n",
        "\\end{equation}\n",
        "The figure below shows an example of such a function using $B=30$, but you can play with this value and see how it affects the result. \n",
        "</font>\n",
        "\n",
        "![picture](https://drive.google.com/uc?export=view&id=1ioYegmxoeemojtbuAtIMNsA43IBXaNIT)\n",
        "\n",
        "The program then plots the ProMPs with the following results:"
      ],
      "metadata": {
        "id": "D_8AxK4sKKI3"
      }
    },
    {
      "cell_type": "code",
      "source": [
        " # Blending: MP1 is conditioned to point 1, MP2 is conditioned to point 2, MP12 is the result of blending both\n",
        "MP1 = ProMP(N,0.02,dt,1e-6,Wmean,Wcov)\n",
        "MP2 = ProMP(N,0.02,dt,1e-6,Wmean,Wcov)\n",
        "MP1.condition(tstar1,Qstar1,covQstar1)\n",
        "MP2.condition(tstar2,Qstar2,covQstar2)\n",
        "MP1.printMP('MP1: Coditioning for point 1')\n",
        "MP2.printMP('MP2: Coditioning for point 2')\n",
        "# Activation functions for blending\n",
        "alpha1 = # -- INSERT YOUR CODE HERE --\n",
        "alpha2 = -alpha1+1\n",
        "MP12 = blend(MP1,MP2,alpha1,alpha2)\n",
        "MP12.printMP('blending of MP1 and MP2')"
      ],
      "metadata": {
        "id": "Poye_XE4Lxj-"
      },
      "execution_count": null,
      "outputs": []
    },
    {
      "cell_type": "markdown",
      "source": [
        "Given three initially identical MPs, MP1, MP2 and MP3, MP2 is modulated with a factor of 0.75, i.e. $z(t)=0.75t$, and MP3 with a factor 1.5, i.e. $z(t)=1.5t$. MP1 is left unmodified. "
      ],
      "metadata": {
        "id": "TR-p4gSlL7YJ"
      }
    },
    {
      "cell_type": "code",
      "source": [
        "#time modulation\n",
        "MP1 = ProMP(N,0.02,dt,1e-6,Wmean,Wcov)\n",
        "MP2 = ProMP(N,0.02,dt,1e-6,Wmean,Wcov)\n",
        "MP3 = ProMP(N,0.02,dt,1e-6,Wmean,Wcov)\n",
        "MP2.modulate(0.75)\n",
        "MP3.modulate(1.5)\n",
        "\n",
        "t1 = np.arange(0, MP1.T*dt, dt)\n",
        "t2 = np.arange(0, MP2.T*dt, dt)\n",
        "t3 = np.arange(0, MP3.T*dt, dt)\n",
        "\n",
        "# Plot original mean, and mean of conditioned MP\n",
        "plt.figure()\n",
        "plt.plot(t1,MP1.Qm, 'k')\n",
        "plt.plot(t2,MP2.Qm, 'b')\n",
        "plt.plot(t3,MP3.Qm, 'g')\n",
        "plt.title('Time modulation')\n",
        "plt.show()\n",
        "\n",
        "MP1.printMP('modulation factor = 1')\n",
        "MP2.printMP('modulation factor = 0.75')\n",
        "MP3.printMP('modulation factor = 1.5')"
      ],
      "metadata": {
        "id": "7IdptCpNMOqe"
      },
      "execution_count": null,
      "outputs": []
    }
  ]
}